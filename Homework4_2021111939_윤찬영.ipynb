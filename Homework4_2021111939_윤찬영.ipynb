{
  "nbformat": 4,
  "nbformat_minor": 0,
  "metadata": {
    "colab": {
      "provenance": [],
      "authorship_tag": "ABX9TyNfqUn1SwqiB9iiVR2TWZIe",
      "include_colab_link": true
    },
    "kernelspec": {
      "name": "python3",
      "display_name": "Python 3"
    },
    "language_info": {
      "name": "python"
    }
  },
  "cells": [
    {
      "cell_type": "markdown",
      "metadata": {
        "id": "view-in-github",
        "colab_type": "text"
      },
      "source": [
        "<a href=\"https://colab.research.google.com/github/cyyoon0311/Machine-learning/blob/main/Homework4_2021111939_%EC%9C%A4%EC%B0%AC%EC%98%81.ipynb\" target=\"_parent\"><img src=\"https://colab.research.google.com/assets/colab-badge.svg\" alt=\"Open In Colab\"/></a>"
      ]
    },
    {
      "cell_type": "code",
      "execution_count": 5,
      "metadata": {
        "id": "AMP_b9nzm8te"
      },
      "outputs": [],
      "source": [
        "import pandas as pd\n",
        "from sklearn.model_selection import train_test_split\n",
        "from sklearn.preprocessing import StandardScaler\n",
        "from sklearn.neighbors import KNeighborsClassifier\n",
        "from sklearn.svm import SVC\n",
        "from sklearn.tree import DecisionTreeClassifier\n",
        "from sklearn.ensemble import VotingClassifier\n",
        "from sklearn.metrics import classification_report\n"
      ]
    },
    {
      "cell_type": "code",
      "source": [
        "# CSV 파일 읽기\n",
        "df = pd.read_csv(\"/content/sample_data/audit_data.csv.xls\", encoding='latin1')\n",
        "\n",
        "# 결측치 제거\n",
        "df = df.dropna()\n",
        "\n",
        "# 불필요한 열 제거\n",
        "df = df.drop(columns=['LOCATION_ID'])\n",
        "\n",
        "# X, y 분리\n",
        "X = df.drop(columns=['Risk'])\n",
        "y = df['Risk']\n",
        "\n",
        "# 정규화\n",
        "scaler = StandardScaler()\n",
        "X_scaled = scaler.fit_transform(X)\n",
        "\n",
        "# 75:25 분할\n",
        "X_train, X_test, y_train, y_test = train_test_split(X_scaled, y, test_size=0.25, random_state=42)\n"
      ],
      "metadata": {
        "id": "DfHIVUW4n6Gw"
      },
      "execution_count": 7,
      "outputs": []
    },
    {
      "cell_type": "code",
      "source": [
        "# 모델 정의\n",
        "knn = KNeighborsClassifier()\n",
        "svm = SVC(probability=True)\n",
        "tree = DecisionTreeClassifier(random_state=42)\n",
        "\n",
        "# 학습\n",
        "knn.fit(X_train, y_train)\n",
        "svm.fit(X_train, y_train)\n",
        "tree.fit(X_train, y_train)\n",
        "\n",
        "# 예측\n",
        "knn_pred = knn.predict(X_test)\n",
        "svm_pred = svm.predict(X_test)\n",
        "tree_pred = tree.predict(X_test)\n",
        "\n",
        "# 평가\n",
        "print(\"KNN 결과:\\n\", classification_report(y_test, knn_pred))\n",
        "print(\"SVM 결과:\\n\", classification_report(y_test, svm_pred))\n",
        "print(\"Decision Tree 결과:\\n\", classification_report(y_test, tree_pred))\n"
      ],
      "metadata": {
        "id": "U3Q2cpvkn69r",
        "colab": {
          "base_uri": "https://localhost:8080/"
        },
        "outputId": "cb59efbf-287d-4995-a59d-dbef8774f058"
      },
      "execution_count": 8,
      "outputs": [
        {
          "output_type": "stream",
          "name": "stdout",
          "text": [
            "KNN 결과:\n",
            "               precision    recall  f1-score   support\n",
            "\n",
            "           0       0.98      1.00      0.99       118\n",
            "           1       1.00      0.96      0.98        76\n",
            "\n",
            "    accuracy                           0.98       194\n",
            "   macro avg       0.99      0.98      0.98       194\n",
            "weighted avg       0.98      0.98      0.98       194\n",
            "\n",
            "SVM 결과:\n",
            "               precision    recall  f1-score   support\n",
            "\n",
            "           0       0.98      0.99      0.99       118\n",
            "           1       0.99      0.97      0.98        76\n",
            "\n",
            "    accuracy                           0.98       194\n",
            "   macro avg       0.98      0.98      0.98       194\n",
            "weighted avg       0.98      0.98      0.98       194\n",
            "\n",
            "Decision Tree 결과:\n",
            "               precision    recall  f1-score   support\n",
            "\n",
            "           0       1.00      1.00      1.00       118\n",
            "           1       1.00      1.00      1.00        76\n",
            "\n",
            "    accuracy                           1.00       194\n",
            "   macro avg       1.00      1.00      1.00       194\n",
            "weighted avg       1.00      1.00      1.00       194\n",
            "\n"
          ]
        }
      ]
    },
    {
      "cell_type": "code",
      "source": [
        "# 소프트 보팅 앙상블 (확률 평균 기반)\n",
        "voting_clf = VotingClassifier(\n",
        "    estimators=[('knn', knn), ('svm', svm), ('tree', tree)],\n",
        "    voting='soft',\n",
        "    weights=[1, 2, 1]\n",
        ")\n",
        "\n",
        "# 학습 및 예측\n",
        "voting_clf.fit(X_train, y_train)\n",
        "voting_pred = voting_clf.predict(X_test)\n",
        "\n",
        "# 평가\n",
        "print(\"VotingClassifier 결과:\\n\", classification_report(y_test, voting_pred))\n"
      ],
      "metadata": {
        "id": "7dD6di9ooy0m",
        "colab": {
          "base_uri": "https://localhost:8080/"
        },
        "outputId": "9e8ccf4c-4702-43ad-9156-fef4195e0a65"
      },
      "execution_count": 9,
      "outputs": [
        {
          "output_type": "stream",
          "name": "stdout",
          "text": [
            "VotingClassifier 결과:\n",
            "               precision    recall  f1-score   support\n",
            "\n",
            "           0       0.99      1.00      1.00       118\n",
            "           1       1.00      0.99      0.99        76\n",
            "\n",
            "    accuracy                           0.99       194\n",
            "   macro avg       1.00      0.99      0.99       194\n",
            "weighted avg       0.99      0.99      0.99       194\n",
            "\n"
          ]
        }
      ]
    },
    {
      "cell_type": "code",
      "source": [
        "# KNN 모델은 precision, recall, f1-score가 모두 0.98로 비교적 우수한 성능을 보였으나, Decision Tree 및 앙상블 모델에 비해 소폭 낮은 결과를 보였다.\n",
        "# SVM 모델은 KNN과 유사한 수준의 성능을 보였으며, 클래스 1(위험)의 recall이 0.97로 약간 낮게 측정되었다.\n",
        "# Decision Tree 모델은 테스트셋 기준으로 모든 성능 지표가 1.00으로 나타났으며, 이는 오버피팅 가능성도 존재하지만 현재 데이터 기준으로는 최고의 성능을 보였다.\n",
        "# VotingClassifier 앙상블 모델은 precision과 recall이 각각 0.99와 1.00 수준으로, 전체적으로 단일 모델보다 더 안정적인 성능을 나타냈다. 특히, 클래스 1의 recall이 0.99로 높게 유지되면서 precision도 높아, 불균형 상황에서도 강건한 모델로 평가된다.\n",
        "# 결론적으로, 앙상블 모델은 모든 단일 모델보다 최소 하나 이상의 지표에서 높은 성능을 기록하였으며, 특히 데이터 불균형이나 다양한 특성을 안정적으로 반영할 수 있다는 점에서 최종적으로 가장 우수한 모델이라고 판단된다."
      ],
      "metadata": {
        "id": "Wuq8S62er5YR"
      },
      "execution_count": null,
      "outputs": []
    }
  ]
}